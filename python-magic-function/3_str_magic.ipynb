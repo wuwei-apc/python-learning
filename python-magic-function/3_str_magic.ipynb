{
 "cells": [
  {
   "cell_type": "markdown",
   "source": [
    "# 魔术方法的使用"
   ],
   "metadata": {
    "collapsed": false
   },
   "id": "9be227a3b1440029"
  },
  {
   "cell_type": "markdown",
   "source": [
    "## 1.__str__"
   ],
   "metadata": {
    "collapsed": false
   },
   "id": "a87a11964e996cdb"
  },
  {
   "cell_type": "code",
   "execution_count": 11,
   "outputs": [],
   "source": [
    "class Student:\n",
    "       def __str__(self):\n",
    "           return '这是一个自定义类'\n",
    "       def __repr__(self):\n",
    "           \"\"\"\n",
    "           测试输出调用\n",
    "           :return: \n",
    "           \"\"\"\n",
    "           return 'repr自定义类'"
   ],
   "metadata": {
    "collapsed": false,
    "ExecuteTime": {
     "end_time": "2023-11-21T05:03:20.551833800Z",
     "start_time": "2023-11-21T05:03:20.497398900Z"
    }
   },
   "id": "6e4a801d5a53617e"
  },
  {
   "cell_type": "code",
   "execution_count": 14,
   "outputs": [
    {
     "data": {
      "text/plain": "repr自定义类"
     },
     "execution_count": 14,
     "metadata": {},
     "output_type": "execute_result"
    }
   ],
   "source": [
    "student = Student()\n",
    "student \n",
    "# print(student)"
   ],
   "metadata": {
    "collapsed": false,
    "ExecuteTime": {
     "end_time": "2023-11-21T05:03:34.385187Z",
     "start_time": "2023-11-21T05:03:34.375087500Z"
    }
   },
   "id": "2e1747a1be0c9708"
  },
  {
   "cell_type": "code",
   "execution_count": 12,
   "outputs": [],
   "source": [],
   "metadata": {
    "collapsed": false,
    "ExecuteTime": {
     "end_time": "2023-11-21T05:03:20.578875900Z",
     "start_time": "2023-11-21T05:03:20.521979300Z"
    }
   },
   "id": "be807e79f379828"
  }
 ],
 "metadata": {
  "kernelspec": {
   "display_name": "Python 3",
   "language": "python",
   "name": "python3"
  },
  "language_info": {
   "codemirror_mode": {
    "name": "ipython",
    "version": 2
   },
   "file_extension": ".py",
   "mimetype": "text/x-python",
   "name": "python",
   "nbconvert_exporter": "python",
   "pygments_lexer": "ipython2",
   "version": "2.7.6"
  }
 },
 "nbformat": 4,
 "nbformat_minor": 5
}
